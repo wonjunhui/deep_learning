{
 "cells": [
  {
   "cell_type": "code",
   "execution_count": 38,
   "metadata": {},
   "outputs": [
    {
     "name": "stdout",
     "output_type": "stream",
     "text": [
      " 1위 최율\n",
      " 2위 지석진\n",
      " 3위 윤서인\n",
      " 4위 덴마크 호주\n",
      " 5위 조재현 재일교포\n",
      " 6위 강형욱\n",
      " 7위 하하\n",
      " 8위 신과함께 2\n",
      " 9위 손나은\n",
      "10위 하지\n",
      "11위 프랑스 페루\n",
      "12위 그랜드 부다페스트 호텔\n",
      "13위 lg디스플레이\n",
      "14위 고토 모에\n",
      "15위 강형욱 아내\n",
      "16위 대추나무 사랑걸렸네\n",
      "17위 메이플스토리\n",
      "18위 브리트니스피어스\n",
      "19위 스페인 이란\n",
      "20위 라디오스타\n"
     ]
    }
   ],
   "source": [
    "import requests\n",
    "from bs4 import BeautifulSoup\n",
    "\n",
    "html = requests.get('https://www.naver.com/').text\n",
    "soup = BeautifulSoup(html, \"lxml\")\n",
    "hoi = soup.find_all(\"li\",\"ah_item\")\n",
    "title_list = soup.select('#PM_ID_ct > div.header > div.section_navbar > div.area_hotkeyword.PM_CL_realtimeKeyword_base > div.ah_roll.PM_CL_realtimeKeyword_rolling_base span.ah_k')\n",
    "for idx, title in enumerate(title_list, 1):\n",
    "    print(\"{0:2d}위 {1}\".format(idx,title.text))"
   ]
  },
  {
   "cell_type": "code",
   "execution_count": 37,
   "metadata": {},
   "outputs": [
    {
     "data": {
      "text/plain": [
       "['최율',\n",
       " '윤서인',\n",
       " '정은채',\n",
       " '스페인 이란',\n",
       " '하지',\n",
       " '덴마크 호주',\n",
       " '조재현 재일교포',\n",
       " 'lg디스플레이',\n",
       " '사이퍼즈',\n",
       " '손나은',\n",
       " '강형욱',\n",
       " '메이플스토리',\n",
       " '아르헨티나 크로아티아',\n",
       " '현대중공업 노동조합',\n",
       " '신과함께 2',\n",
       " '피파온라인4',\n",
       " '박민영',\n",
       " '에곤 쉴레',\n",
       " '박민영 원피스',\n",
       " '라디오스타',\n",
       " '최율',\n",
       " '윤서인',\n",
       " '정은채',\n",
       " '스페인 이란',\n",
       " '하지',\n",
       " '덴마크 호주',\n",
       " '조재현 재일교포',\n",
       " 'lg디스플레이',\n",
       " '사이퍼즈',\n",
       " '손나은',\n",
       " '강형욱',\n",
       " '메이플스토리',\n",
       " '아르헨티나 크로아티아',\n",
       " '현대중공업 노동조합',\n",
       " '신과함께 2',\n",
       " '피파온라인4',\n",
       " '박민영',\n",
       " '에곤 쉴레',\n",
       " '박민영 원피스',\n",
       " '라디오스타']"
      ]
     },
     "execution_count": 37,
     "metadata": {},
     "output_type": "execute_result"
    }
   ],
   "source": [
    "import re\n",
    "import requests\n",
    "\n",
    "re.findall('<span class=\"ah_k\">(.*?)</span>',requests.get('https://www.naver.com/').text)"
   ]
  },
  {
   "cell_type": "code",
   "execution_count": null,
   "metadata": {},
   "outputs": [],
   "source": []
  }
 ],
 "metadata": {
  "kernelspec": {
   "display_name": "Python 3",
   "language": "python",
   "name": "python3"
  },
  "language_info": {
   "codemirror_mode": {
    "name": "ipython",
    "version": 3
   },
   "file_extension": ".py",
   "mimetype": "text/x-python",
   "name": "python",
   "nbconvert_exporter": "python",
   "pygments_lexer": "ipython3",
   "version": "3.6.5"
  }
 },
 "nbformat": 4,
 "nbformat_minor": 2
}
