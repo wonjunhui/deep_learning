{
 "cells": [
  {
   "cell_type": "code",
   "execution_count": 1,
   "metadata": {},
   "outputs": [
    {
     "name": "stdout",
     "output_type": "stream",
     "text": [
      "hello\n"
     ]
    }
   ],
   "source": [
    "print(\"hello\")"
   ]
  },
  {
   "cell_type": "code",
   "execution_count": 58,
   "metadata": {},
   "outputs": [
    {
     "name": "stdout",
     "output_type": "stream",
     "text": [
      "[5, 17, 21, 23, 40, 44] 합계= 150\n",
      "[3, 5, 29, 39, 42, 43] 합계= 161\n",
      "[9, 11, 27, 30, 40, 42] 합계= 159\n",
      "[5, 9, 18, 26, 33, 37] 합계= 128\n",
      "[7, 12, 13, 24, 26, 39] 합계= 121\n"
     ]
    }
   ],
   "source": [
    "import random\n",
    "sum(lotto)\n",
    "cnt = 0\n",
    "while cnt < 5:\n",
    "    lotto = sorted(random.sample(range(1,46),6))\n",
    "    if 100 <= sum(lotto) <= 170:\n",
    "        print(lotto, '합계=',sum(lotto))\n",
    "        cnt += 1\n",
    "    "
   ]
  },
  {
   "cell_type": "code",
   "execution_count": 59,
   "metadata": {},
   "outputs": [
    {
     "name": "stdout",
     "output_type": "stream",
     "text": [
      " 1위: 탐정: 리턴즈\n",
      " 2위: 오션스8\n",
      " 3위: 쥬라기 월드: 폴른 킹덤\n",
      " 4위: 독전\n",
      " 5위: 인랑\n",
      " 6위: 유전\n",
      " 7위: 아이 필 프리티\n",
      " 8위: 여중생A\n",
      " 9위: 버닝\n",
      "10위: 어벤져스: 인피니티 워\n",
      "11위: 마녀\n",
      "12위: 데드풀 2\n",
      "13위: 미드나잇 선\n",
      "14위: 신과함께-인과 연\n",
      "15위: 살인소설\n",
      "16위: 아일라\n",
      "17위: 데자뷰\n",
      "18위: 앤트맨과 와스프\n",
      "19위: 아바타\n",
      "20위: 극장판 포켓몬스터DP - 디아루가 VS 펄기아 VS 다크라이\n",
      "21위: 개들의 섬\n",
      "22위: 더 펜션\n",
      "23위: 바르다가 사랑한 얼굴들\n",
      "24위: 메이플쏘프\n",
      "25위: 류이치 사카모토: 코다\n",
      "26위: 탐정 : 더 비기닝\n",
      "27위: 허스토리\n",
      "28위: 아직 끝나지 않았다\n",
      "29위: 튼튼이의 모험\n",
      "30위: 변산\n",
      "31위: 시카리오: 데이 오브 솔다도\n",
      "32위: 램페이지\n",
      "33위: 2036 오리진 언노운\n",
      "34위: 남자와 여자\n",
      "35위: 토니스토리2: 고철왕국의 친구들\n",
      "36위: 엔테베 작전\n",
      "37위: 애인 : 아내의 남자\n",
      "38위: 파라독스\n",
      "39위: 툼레이더\n",
      "40위: 당갈\n",
      "41위: 레디 플레이어 원\n",
      "42위: 피터 래빗\n",
      "43위: 프레데터 2018\n",
      "44위: 이스케이프 플랜 2: 하데스\n",
      "45위: 밤쉘\n",
      "46위: 쥬라기 월드\n",
      "47위: 미션 임파서블: 폴아웃\n",
      "48위: 렌델: 어둠의 기사\n",
      "49위: 인크레더블 2\n",
      "50위: 식물도감\n"
     ]
    }
   ],
   "source": [
    "from bs4 import BeautifulSoup\n",
    "import urllib.request\n",
    "html = urllib.request.urlopen(\"https://movie.naver.com/movie/sdb/rank/rmovie.nhn\")\n",
    "# print(html)\n",
    "soup = BeautifulSoup(html, \"lxml\")\n",
    "table = soup.find(\"table\", class_=\"list_ranking\")\n",
    "table_body = table.find('tbody')\n",
    "rows = table_body.find_all('tr')\n",
    "\n",
    "rank_list = soup.find_all(\"div\",\"tit3\")\n",
    "# count = 1\n",
    "# for i in rank_list:\n",
    "#     title = i.find('a').contents[0]\n",
    "#     print(\"{0:2d}위: {1}\".format(count,title))\n",
    "#     count = count + 1\n",
    "    \n",
    "# # print(rows)\n",
    "# movies = []\n",
    "# for row in rows:\n",
    "#     try:\n",
    "#         print(row.find('a')['title'])\n",
    "#         movies.append(row.find('a')['title'])\n",
    "#     except:\n",
    "#         print(\"none\")\n",
    "# print(movies)\n",
    "\n",
    "\n",
    "for idx, rank in enumerate(rank_list,1):\n",
    "    title = rank.find('a').string\n",
    "    print(\"{0:2d}위: {1}\".format(idx,title))"
   ]
  },
  {
   "cell_type": "code",
   "execution_count": 60,
   "metadata": {},
   "outputs": [
    {
     "name": "stdout",
     "output_type": "stream",
     "text": [
      "811 회\n",
      "8 11 19 21 36 45\n",
      "보너스: 25\n"
     ]
    }
   ],
   "source": [
    "from bs4 import BeautifulSoup\n",
    "import urllib.request\n",
    "html = urllib.request.urlopen(\"http://nlotto.co.kr/gameResult.do?method=byWin\")\n",
    "# print(html)\n",
    "soup = BeautifulSoup(html, \"lxml\")\n",
    "# print(soup)\n",
    "hoi = soup.find(\"h3\", class_=\"result_title\")\n",
    "# print(hoi)\n",
    "print(hoi.strong.string,\"회\")\n",
    "\n",
    "numbers = []\n",
    "p = soup.find(\"p\", class_=\"number\")\n",
    "imgs = p.find_all('img')\n",
    "# print(imgs)\n",
    "for i in imgs :\n",
    "    # print(i['alt'])\n",
    "    numbers.append(i['alt'])\n",
    "\n",
    "# print(\"당첨번호:\",numbers)\n",
    "bonus = numbers.pop(6)\n",
    "print(\" \".join(numbers))\n",
    "print(\"보너스:\",bonus)\n",
    "# print(p"
   ]
  }
 ],
 "metadata": {
  "kernelspec": {
   "display_name": "Python 3",
   "language": "python",
   "name": "python3"
  },
  "language_info": {
   "codemirror_mode": {
    "name": "ipython",
    "version": 3
   },
   "file_extension": ".py",
   "mimetype": "text/x-python",
   "name": "python",
   "nbconvert_exporter": "python",
   "pygments_lexer": "ipython3",
   "version": "3.6.5"
  }
 },
 "nbformat": 4,
 "nbformat_minor": 2
}
