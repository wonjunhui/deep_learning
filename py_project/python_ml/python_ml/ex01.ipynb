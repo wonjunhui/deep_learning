{
 "cells": [
  {
   "cell_type": "markdown",
   "metadata": {},
   "source": [
    "# 로또 번호 스크랩 등 예제"
   ]
  },
  {
   "cell_type": "code",
   "execution_count": 1,
   "metadata": {},
   "outputs": [],
   "source": [
    "# pip install beautifulsoup4\n",
    "from bs4 import BeautifulSoup"
   ]
  },
  {
   "cell_type": "code",
   "execution_count": 2,
   "metadata": {},
   "outputs": [
    {
     "name": "stdout",
     "output_type": "stream",
     "text": [
      "794 회\n",
      "6 7 18 19 30 38\n",
      "보너스 번호 : 13\n"
     ]
    }
   ],
   "source": [
    "# pip install beautifulsoup4\n",
    "from bs4 import BeautifulSoup\n",
    "import urllib.request\n",
    "html = urllib.request.urlopen('http://www.nlotto.co.kr/common.do?method=main')\n",
    "soup = BeautifulSoup(html, 'html.parser')\n",
    "hoi = soup.find('span', id=\"lottoDrwNo\")\n",
    "print(hoi.string, \"회\")\n",
    "numbers=[]\n",
    "for n in range(1,7):\n",
    "    strV=\"drwtNo\" + str(n)\n",
    "    first = soup.find('img', id=strV)['alt']\n",
    "    numbers.append(first)\n",
    "\n",
    "bonus = soup.find('img', id=\"bnusNo\")['alt']\n",
    "\n",
    "print(\" \".join(numbers))\n",
    "print('보너스 번호 : ' + bonus)\n",
    "\n",
    "# 필요한 HTML 내용\n",
    "\n",
    "# <p id=\"numView\" class=\"lotto_num\">\n",
    "#     <img id=\"drwtNo1\" src=\"/img/index/main_ball_10.gif\" alt=\"10\">\n",
    "#     <img id=\"drwtNo2\" src=\"/img/index/main_ball_15.gif\" alt=\"15\">\n",
    "#     <img id=\"drwtNo3\" src=\"/img/index/main_ball_21.gif\" alt=\"21\">\n",
    "#     <img id=\"drwtNo4\" src=\"/img/index/main_ball_35.gif\" alt=\"35\">\n",
    "#     <img id=\"drwtNo5\" src=\"/img/index/main_ball_38.gif\" alt=\"38\">\n",
    "#     <img id=\"drwtNo6\" src=\"/img/index/main_ball_43.gif\" alt=\"43\">\n",
    "#     <img src=\"/img/index/img_plus.gif\" alt=\"보너스번호\" class=\"more\">\n",
    "#     <img id=\"bnusNo\" src=\"/img/index/main_ball_31.gif\" alt=\"31\">\n",
    "# </p>"
   ]
  },
  {
   "cell_type": "code",
   "execution_count": 26,
   "metadata": {},
   "outputs": [
    {
     "name": "stdout",
     "output_type": "stream",
     "text": [
      "[10, 15, 21, 35, 38, 43]\n",
      "bonus= 31\n"
     ]
    }
   ],
   "source": [
    "# 나눔로또 사이트가 막혀서 네이버 검색으로 로또 번호 확인하는 예제\n",
    "\n",
    "# pip install beautifulsoup4\n",
    "from bs4 import BeautifulSoup\n",
    "\n",
    "try:\n",
    "    from urllib.request import urlopen  # Python 3.x\n",
    "except ImportError:\n",
    "    from urllib2 import urlopen  # Python 2\n",
    "\n",
    "# 네이버에서 로또로 검색한 URL : https://search.naver.com/search.naver?where=nexearch&sm=top_hty&fbm=0&ie=utf8&query=로또\n",
    "url = \"https://search.naver.com/search.naver?where=nexearch&sm=top_hty&fbm=0&ie=utf8&query=%EB%A1%9C%EB%98%90\"\n",
    "page = urlopen(url)\n",
    "soup = BeautifulSoup(page.read(), \"html.parser\")\n",
    "\n",
    "# HTML class가 num_box 를 찾자.\n",
    "mydiv1 = soup.findAll(\"div\", {\"class\": \"num_box\"})\n",
    "# print(mydiv1)\n",
    "spans = mydiv1[0].find_all('span')\n",
    "# print(spans)\n",
    "\n",
    "balls = [item.string for item in spans]\n",
    "# print(balls) # 예) ['10', '15', '21', '35', '38', '43', '보너스번호', '31']\n",
    "\n",
    "bonus = balls.pop() # 예) 맨 끝의 보너스 번호인 '32' 얻기\n",
    "balls.pop() # '보너스번호' 글자 없애기\n",
    "# print(balls)  # 예) ['10', '15', '21', '35', '38', '43']\n",
    "\n",
    "lotto = [int(a) for a in balls] # 문자를 숫자로 바꾸기\n",
    "print(lotto) # 예) [10, 15, 21, 35, 38, 43]\n",
    "\n",
    "print('bonus=', bonus) # 예) bonus= 31\n",
    "\n",
    "# 필요한 HTML 내용\n",
    "# <div class=\"num_box\">\n",
    "#     <span class=\"num ball10\">10</span>\n",
    "#     <span class=\"num ball15\">15</span>\n",
    "#     <span class=\"num ball21\">21</span>\n",
    "#     <span class=\"num ball35\">35</span>\n",
    "#     <span class=\"num ball38\">38</span>\n",
    "#     <span class=\"num ball43\">43</span>\n",
    "#     <span class=\"bonus\">보너스번호</span>\n",
    "#     <span class=\"num ball31\">31</span>\n",
    "#     <a nocr=\"1\" onclick=\"goOtherCR(this,'a=' + nco_area_2038083 + '.contents'+'&amp;r=1&amp;i=0011AD9E_000000000000&amp;u='+urlencode(this.href));\" target=\"_blank\" class=\"btn_num\" href=\"http://www.nlotto.co.kr/gameResult.do?method=myWin\">내 번호 당첨조회</a>\n",
    "# </div>"
   ]
  },
  {
   "cell_type": "code",
   "execution_count": null,
   "metadata": {},
   "outputs": [],
   "source": []
  }
 ],
 "metadata": {
  "kernelspec": {
   "display_name": "Python 3",
   "language": "python",
   "name": "python3"
  },
  "language_info": {
   "codemirror_mode": {
    "name": "ipython",
    "version": 3
   },
   "file_extension": ".py",
   "mimetype": "text/x-python",
   "name": "python",
   "nbconvert_exporter": "python",
   "pygments_lexer": "ipython3",
   "version": "3.6.4"
  }
 },
 "nbformat": 4,
 "nbformat_minor": 2
}
