{
 "cells": [
  {
   "cell_type": "code",
   "execution_count": 3,
   "metadata": {},
   "outputs": [],
   "source": [
    "import tensorflow as tf\n",
    "import numpy as np"
   ]
  },
  {
   "cell_type": "code",
   "execution_count": 5,
   "metadata": {},
   "outputs": [
    {
     "name": "stdout",
     "output_type": "stream",
     "text": [
      "[[0.16838508 0.205666   0.25120102 0.37474789]]\n"
     ]
    }
   ],
   "source": [
    "a = tf.constant(np.array([[.1, .3, .5, .9]]))\n",
    "sess = tf.Session()\n",
    "print( sess.run(tf.nn.softmax(a)) )\n",
    "# softmax는 합계 (입력) = 1이되도록 입력을 \"스켈링\"합니다.\n",
    "# softmax의 출력 형태는 입력과 동일합니다. 단지 값을 정규화합니다. softmax의 출력은 확률로 해석 될 수 있습니다. "
   ]
  }
 ],
 "metadata": {
  "kernelspec": {
   "display_name": "Python 3",
   "language": "python",
   "name": "python3"
  },
  "language_info": {
   "codemirror_mode": {
    "name": "ipython",
    "version": 3
   },
   "file_extension": ".py",
   "mimetype": "text/x-python",
   "name": "python",
   "nbconvert_exporter": "python",
   "pygments_lexer": "ipython3",
   "version": "3.6.4"
  }
 },
 "nbformat": 4,
 "nbformat_minor": 2
}
